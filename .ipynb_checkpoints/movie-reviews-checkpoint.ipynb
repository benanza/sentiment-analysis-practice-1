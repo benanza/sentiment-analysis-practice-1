{
 "cells": [
  {
   "cell_type": "code",
   "execution_count": 4,
   "metadata": {},
   "outputs": [],
   "source": [
    "# Import necessary libraries\n",
    "import nltk\n",
    "from nltk.corpus import movie_reviews\n",
    "import random"
   ]
  },
  {
   "cell_type": "code",
   "execution_count": 6,
   "metadata": {},
   "outputs": [],
   "source": [
    "# Construct list of documents labeled with categories\n",
    "documents = [(list(movie_reviews.words(fileid)), category)\n",
    "              for category in movie_reviews.categories()\n",
    "              for fileid in movie_reviews.fileids(category)]\n",
    "\n",
    "# Rearrage documents in random order\n",
    "random.shuffle(documents)"
   ]
  },
  {
   "cell_type": "code",
   "execution_count": 7,
   "metadata": {},
   "outputs": [],
   "source": [
    "# Calculate frequency distribution of each word\n",
    "all_words = nltk.FreqDist(w.lower() for w in movie_reviews.words())\n",
    "\n",
    "# Limit number of features to 2000 most frequent words in the corpus\n",
    "word_features = list(all_words)[:2000]\n",
    "\n",
    "# Define feature extractor to check for presence of words\n",
    "# in any given document\n",
    "def document_features(document):\n",
    "    \n",
    "    # Faster to check set of words than list of words\n",
    "    document_words = set(document)\n",
    "    \n",
    "    features = {}\n",
    "    \n",
    "    for word in word_features:\n",
    "        \n",
    "        features['contains({})'.format(word)] = (word in document_words)\n",
    "        \n",
    "    return features"
   ]
  },
  {
   "cell_type": "code",
   "execution_count": 12,
   "metadata": {},
   "outputs": [],
   "source": [
    "# Train Naive Bayes classifier\n",
    "\n",
    "featuresets = [(document_features(d), c) for (d, c) in documents]\n",
    "\n",
    "train_set, test_set = featuresets[100:], featuresets[:100]\n",
    "\n",
    "classifier = nltk.NaiveBayesClassifier.train(train_set)"
   ]
  },
  {
   "cell_type": "code",
   "execution_count": 13,
   "metadata": {},
   "outputs": [
    {
     "name": "stdout",
     "output_type": "stream",
     "text": [
      "0.71\n"
     ]
    }
   ],
   "source": [
    "# Test the accuracy of the classifier\n",
    "\n",
    "print(nltk.classify.accuracy(classifier, test_set))"
   ]
  },
  {
   "cell_type": "code",
   "execution_count": 15,
   "metadata": {},
   "outputs": [
    {
     "name": "stdout",
     "output_type": "stream",
     "text": [
      "Most Informative Features\n",
      "      contains(explores) = True              pos : neg    =     12.4 : 1.0\n",
      "         contains(moody) = True              pos : neg    =      9.7 : 1.0\n",
      " contains(unimaginative) = True              neg : pos    =      7.7 : 1.0\n",
      "       contains(martian) = True              neg : pos    =      7.7 : 1.0\n",
      "    contains(schumacher) = True              neg : pos    =      7.0 : 1.0\n",
      "          contains(mena) = True              neg : pos    =      7.0 : 1.0\n",
      "        contains(suvari) = True              neg : pos    =      7.0 : 1.0\n",
      "     contains(atrocious) = True              neg : pos    =      7.0 : 1.0\n",
      "        contains(neatly) = True              pos : neg    =      6.3 : 1.0\n",
      "       contains(singers) = True              pos : neg    =      6.3 : 1.0\n"
     ]
    }
   ],
   "source": [
    "# Show top 10 most important features as interpreted by the classifier\n",
    "# pos : neg is ratio (i.e. \"pos : neg = 5.0 : 1.0\"\n",
    "# means 5 times more likely to be a positive word)\n",
    "\n",
    "classifier.show_most_informative_features(10)"
   ]
  }
 ],
 "metadata": {
  "kernelspec": {
   "display_name": "Python 3",
   "language": "python",
   "name": "python3"
  },
  "language_info": {
   "codemirror_mode": {
    "name": "ipython",
    "version": 3
   },
   "file_extension": ".py",
   "mimetype": "text/x-python",
   "name": "python",
   "nbconvert_exporter": "python",
   "pygments_lexer": "ipython3",
   "version": "3.7.4"
  }
 },
 "nbformat": 4,
 "nbformat_minor": 2
}
